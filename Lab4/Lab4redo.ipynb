{
 "cells": [
  {
   "cell_type": "code",
   "execution_count": 12,
   "metadata": {
    "collapsed": false
   },
   "outputs": [
    {
     "name": "stdout",
     "output_type": "stream",
     "text": [
      "1\n"
     ]
    }
   ],
   "source": [
    "import os\n",
    "import re\n",
    "\n",
    "totalWordCount = {}\n",
    "Books = []\n",
    "i = 0\n",
    "bookTotal = 0\n",
    "regex = '([^A-Za-z ]+)'\n",
    "\n",
    "for file in os.listdir('books/'):\n",
    "    fin = open('books/' + file)\n",
    "    bookWordCount = {}\n",
    "    for line in fin:\n",
    "        wordString = re.sub(regex, '', line).lower()\n",
    "        wordArray = wordString.split(' ')\n",
    "        ##wordArray = re.findall('([A-Za-z]*)', wordString)\n",
    "        \n",
    "        for word in wordArray:\n",
    "            if word not in totalWordCount:\n",
    "                totalWordCount[word] = 1\n",
    "            else:\n",
    "                totalWordCount[word] += 1\n",
    "                \n",
    "            if word not in bookWordCount:\n",
    "                bookWordCount[word] = 1\n",
    "            else:\n",
    "                bookWordCount[word] += 1\n",
    "                \n",
    "    Books.append(bookWordCount)\n",
    "        "
   ]
  },
  {
   "cell_type": "markdown",
   "metadata": {},
   "source": [
    "Need to make all words lower case and then separate them for each book. Recoding the percentages of the words per book. then get those into my 20 dimensional vector"
   ]
  },
  {
   "cell_type": "code",
   "execution_count": null,
   "metadata": {
    "collapsed": true
   },
   "outputs": [],
   "source": []
  }
 ],
 "metadata": {
  "anaconda-cloud": {},
  "kernelspec": {
   "display_name": "Python [Root]",
   "language": "python",
   "name": "Python [Root]"
  },
  "language_info": {
   "codemirror_mode": {
    "name": "ipython",
    "version": 3
   },
   "file_extension": ".py",
   "mimetype": "text/x-python",
   "name": "python",
   "nbconvert_exporter": "python",
   "pygments_lexer": "ipython3",
   "version": "3.5.2"
  }
 },
 "nbformat": 4,
 "nbformat_minor": 0
}
