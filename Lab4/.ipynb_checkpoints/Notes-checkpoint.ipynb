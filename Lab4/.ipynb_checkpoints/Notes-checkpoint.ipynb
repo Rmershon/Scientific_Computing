{
 "cells": [
  {
   "cell_type": "markdown",
   "metadata": {},
   "source": [
    "k-means: # of clusters\n",
    "\n",
    "centroids are the centers of clusters.\n",
    "\n",
    "Take the first two points as centroids. Then look at each point and see which centroid it is closest to. Then add it to that cluster. \n",
    "When you've added all points to a cluster. repeat this with the average of both points. This gives the new centroid. Repeat finding the closest centroid to each point. \n",
    "\n",
    "This will repeat until the centroids and clusters remain the same. "
   ]
  },
  {
   "cell_type": "code",
   "execution_count": null,
   "metadata": {
    "collapsed": true
   },
   "outputs": [],
   "source": []
  }
 ],
 "metadata": {
  "anaconda-cloud": {},
  "kernelspec": {
   "display_name": "Python [Root]",
   "language": "python",
   "name": "Python [Root]"
  },
  "language_info": {
   "codemirror_mode": {
    "name": "ipython",
    "version": 3
   },
   "file_extension": ".py",
   "mimetype": "text/x-python",
   "name": "python",
   "nbconvert_exporter": "python",
   "pygments_lexer": "ipython3",
   "version": "3.5.2"
  }
 },
 "nbformat": 4,
 "nbformat_minor": 0
}
