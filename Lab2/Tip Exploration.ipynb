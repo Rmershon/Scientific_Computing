{
 "cells": [
  {
   "cell_type": "code",
   "execution_count": 1,
   "metadata": {
    "collapsed": true
   },
   "outputs": [],
   "source": [
    "fin = open(\"tips.csv\")"
   ]
  },
  {
   "cell_type": "code",
   "execution_count": 2,
   "metadata": {
    "collapsed": true
   },
   "outputs": [],
   "source": [
    "data = []\n",
    "labels = fin.readline().strip().split(\",\")\n",
    "for line in fin:\n",
    "    data.append(line.strip().split(\",\"))"
   ]
  },
  {
   "cell_type": "code",
   "execution_count": 3,
   "metadata": {
    "collapsed": false
   },
   "outputs": [
    {
     "data": {
      "text/plain": [
       "['obs', 'totbill', 'tip', 'sex', 'smoker', 'day', 'time', 'size']"
      ]
     },
     "execution_count": 3,
     "metadata": {},
     "output_type": "execute_result"
    }
   ],
   "source": [
    "labels"
   ]
  },
  {
   "cell_type": "code",
   "execution_count": 4,
   "metadata": {
    "collapsed": false
   },
   "outputs": [
    {
     "data": {
      "text/plain": [
       "[['1', '16.99', ' 1.01', 'F', 'No', 'Sun', 'Night', '2'],\n",
       " ['2', '10.34', ' 1.66', 'M', 'No', 'Sun', 'Night', '3'],\n",
       " ['3', '21.01', ' 3.50', 'M', 'No', 'Sun', 'Night', '3'],\n",
       " ['4', '23.68', ' 3.31', 'M', 'No', 'Sun', 'Night', '2'],\n",
       " ['5', '24.59', ' 3.61', 'F', 'No', 'Sun', 'Night', '4'],\n",
       " ['6', '25.29', ' 4.71', 'M', 'No', 'Sun', 'Night', '4'],\n",
       " ['7', ' 8.77', ' 2.00', 'M', 'No', 'Sun', 'Night', '2'],\n",
       " ['8', '26.88', ' 3.12', 'M', 'No', 'Sun', 'Night', '4'],\n",
       " ['9', '15.04', ' 1.96', 'M', 'No', 'Sun', 'Night', '2'],\n",
       " ['10', '14.78', ' 3.23', 'M', 'No', 'Sun', 'Night', '2'],\n",
       " ['11', '10.27', ' 1.71', 'M', 'No', 'Sun', 'Night', '2'],\n",
       " ['12', '35.26', ' 5.00', 'F', 'No', 'Sun', 'Night', '4'],\n",
       " ['13', '15.42', ' 1.57', 'M', 'No', 'Sun', 'Night', '2'],\n",
       " ['14', '18.43', ' 3.00', 'M', 'No', 'Sun', 'Night', '4'],\n",
       " ['15', '14.83', ' 3.02', 'F', 'No', 'Sun', 'Night', '2'],\n",
       " ['16', '21.58', ' 3.92', 'M', 'No', 'Sun', 'Night', '2'],\n",
       " ['17', '10.33', ' 1.67', 'F', 'No', 'Sun', 'Night', '3'],\n",
       " ['18', '16.29', ' 3.71', 'M', 'No', 'Sun', 'Night', '3'],\n",
       " ['19', '16.97', ' 3.50', 'F', 'No', 'Sun', 'Night', '3'],\n",
       " ['20', '20.65', ' 3.35', 'M', 'No', 'Sat', 'Night', '3'],\n",
       " ['21', '17.92', ' 4.08', 'M', 'No', 'Sat', 'Night', '2'],\n",
       " ['22', '20.29', ' 2.75', 'F', 'No', 'Sat', 'Night', '2'],\n",
       " ['23', '15.77', ' 2.23', 'F', 'No', 'Sat', 'Night', '2'],\n",
       " ['24', '39.42', ' 7.58', 'M', 'No', 'Sat', 'Night', '4'],\n",
       " ['25', '19.82', ' 3.18', 'M', 'No', 'Sat', 'Night', '2'],\n",
       " ['26', '17.81', ' 2.34', 'M', 'No', 'Sat', 'Night', '4'],\n",
       " ['27', '13.37', ' 2.00', 'M', 'No', 'Sat', 'Night', '2'],\n",
       " ['28', '12.69', ' 2.00', 'M', 'No', 'Sat', 'Night', '2'],\n",
       " ['29', '21.70', ' 4.30', 'M', 'No', 'Sat', 'Night', '2'],\n",
       " ['30', '19.65', ' 3.00', 'F', 'No', 'Sat', 'Night', '2'],\n",
       " ['31', ' 9.55', ' 1.45', 'M', 'No', 'Sat', 'Night', '2'],\n",
       " ['32', '18.35', ' 2.50', 'M', 'No', 'Sat', 'Night', '4'],\n",
       " ['33', '15.06', ' 3.00', 'F', 'No', 'Sat', 'Night', '2'],\n",
       " ['34', '20.69', ' 2.45', 'F', 'No', 'Sat', 'Night', '4'],\n",
       " ['35', '17.78', ' 3.27', 'M', 'No', 'Sat', 'Night', '2'],\n",
       " ['36', '24.06', ' 3.60', 'M', 'No', 'Sat', 'Night', '3'],\n",
       " ['37', '16.31', ' 2.00', 'M', 'No', 'Sat', 'Night', '3'],\n",
       " ['38', '16.93', ' 3.07', 'F', 'No', 'Sat', 'Night', '3'],\n",
       " ['39', '18.69', ' 2.31', 'M', 'No', 'Sat', 'Night', '3'],\n",
       " ['40', '31.27', ' 5.00', 'M', 'No', 'Sat', 'Night', '3'],\n",
       " ['41', '16.04', ' 2.24', 'M', 'No', 'Sat', 'Night', '3'],\n",
       " ['42', '17.46', ' 2.54', 'M', 'No', 'Sun', 'Night', '2'],\n",
       " ['43', '13.94', ' 3.06', 'M', 'No', 'Sun', 'Night', '2'],\n",
       " ['44', ' 9.68', ' 1.32', 'M', 'No', 'Sun', 'Night', '2'],\n",
       " ['45', '30.40', ' 5.60', 'M', 'No', 'Sun', 'Night', '4'],\n",
       " ['46', '18.29', ' 3.00', 'M', 'No', 'Sun', 'Night', '2'],\n",
       " ['47', '22.23', ' 5.00', 'M', 'No', 'Sun', 'Night', '2'],\n",
       " ['48', '32.40', ' 6.00', 'M', 'No', 'Sun', 'Night', '4'],\n",
       " ['49', '28.55', ' 2.05', 'M', 'No', 'Sun', 'Night', '3'],\n",
       " ['50', '18.04', ' 3.00', 'M', 'No', 'Sun', 'Night', '2'],\n",
       " ['51', '12.54', ' 2.50', 'M', 'No', 'Sun', 'Night', '2'],\n",
       " ['52', '10.29', ' 2.60', 'F', 'No', 'Sun', 'Night', '2'],\n",
       " ['53', '34.81', ' 5.20', 'F', 'No', 'Sun', 'Night', '4'],\n",
       " ['54', ' 9.94', ' 1.56', 'M', 'No', 'Sun', 'Night', '2'],\n",
       " ['55', '25.56', ' 4.34', 'M', 'No', 'Sun', 'Night', '4'],\n",
       " ['56', '19.49', ' 3.51', 'M', 'No', 'Sun', 'Night', '2'],\n",
       " ['57', '38.01', ' 3.00', 'M', 'Yes', 'Sat', 'Night', '4'],\n",
       " ['58', '26.41', ' 1.50', 'F', 'No', 'Sat', 'Night', '2'],\n",
       " ['59', '11.24', ' 1.76', 'M', 'Yes', 'Sat', 'Night', '2'],\n",
       " ['60', '48.27', ' 6.73', 'M', 'No', 'Sat', 'Night', '4'],\n",
       " ['61', '20.29', ' 3.21', 'M', 'Yes', 'Sat', 'Night', '2'],\n",
       " ['62', '13.81', ' 2.00', 'M', 'Yes', 'Sat', 'Night', '2'],\n",
       " ['63', '11.02', ' 1.98', 'M', 'Yes', 'Sat', 'Night', '2'],\n",
       " ['64', '18.29', ' 3.76', 'M', 'Yes', 'Sat', 'Night', '4'],\n",
       " ['65', '17.59', ' 2.64', 'M', 'No', 'Sat', 'Night', '3'],\n",
       " ['66', '20.08', ' 3.15', 'M', 'No', 'Sat', 'Night', '3'],\n",
       " ['67', '16.45', ' 2.47', 'F', 'No', 'Sat', 'Night', '2'],\n",
       " ['68', ' 3.07', ' 1.00', 'F', 'Yes', 'Sat', 'Night', '1'],\n",
       " ['69', '20.23', ' 2.01', 'M', 'No', 'Sat', 'Night', '2'],\n",
       " ['70', '15.01', ' 2.09', 'M', 'Yes', 'Sat', 'Night', '2'],\n",
       " ['71', '12.02', ' 1.97', 'M', 'No', 'Sat', 'Night', '2'],\n",
       " ['72', '17.07', ' 3.00', 'F', 'No', 'Sat', 'Night', '3'],\n",
       " ['73', '26.86', ' 3.14', 'F', 'Yes', 'Sat', 'Night', '2'],\n",
       " ['74', '25.28', ' 5.00', 'F', 'Yes', 'Sat', 'Night', '2'],\n",
       " ['75', '14.73', ' 2.20', 'F', 'No', 'Sat', 'Night', '2'],\n",
       " ['76', '10.51', ' 1.25', 'M', 'No', 'Sat', 'Night', '2'],\n",
       " ['77', '17.92', ' 3.08', 'M', 'Yes', 'Sat', 'Night', '2'],\n",
       " ['78', '27.20', ' 4.00', 'M', 'No', 'Thu', 'Day', '4'],\n",
       " ['79', '22.76', ' 3.00', 'M', 'No', 'Thu', 'Day', '2'],\n",
       " ['80', '17.29', ' 2.71', 'M', 'No', 'Thu', 'Day', '2'],\n",
       " ['81', '19.44', ' 3.00', 'M', 'Yes', 'Thu', 'Day', '2'],\n",
       " ['82', '16.66', ' 3.40', 'M', 'No', 'Thu', 'Day', '2'],\n",
       " ['83', '10.07', ' 1.83', 'F', 'No', 'Thu', 'Day', '1'],\n",
       " ['84', '32.68', ' 5.00', 'M', 'Yes', 'Thu', 'Day', '2'],\n",
       " ['85', '15.98', ' 2.03', 'M', 'No', 'Thu', 'Day', '2'],\n",
       " ['86', '34.83', ' 5.17', 'F', 'No', 'Thu', 'Day', '4'],\n",
       " ['87', '13.03', ' 2.00', 'M', 'No', 'Thu', 'Day', '2'],\n",
       " ['88', '18.28', ' 4.00', 'M', 'No', 'Thu', 'Day', '2'],\n",
       " ['89', '24.71', ' 5.85', 'M', 'No', 'Thu', 'Day', '2'],\n",
       " ['90', '21.16', ' 3.00', 'M', 'No', 'Thu', 'Day', '2'],\n",
       " ['91', '28.97', ' 3.00', 'M', 'Yes', 'Fri', 'Night', '2'],\n",
       " ['92', '22.49', ' 3.50', 'M', 'No', 'Fri', 'Night', '2'],\n",
       " ['93', ' 5.75', ' 1.00', 'F', 'Yes', 'Fri', 'Night', '2'],\n",
       " ['94', '16.32', ' 4.30', 'F', 'Yes', 'Fri', 'Night', '2'],\n",
       " ['95', '22.75', ' 3.25', 'F', 'No', 'Fri', 'Night', '2'],\n",
       " ['96', '40.17', ' 4.73', 'M', 'Yes', 'Fri', 'Night', '4'],\n",
       " ['97', '27.28', ' 4.00', 'M', 'Yes', 'Fri', 'Night', '2'],\n",
       " ['98', '12.03', ' 1.50', 'M', 'Yes', 'Fri', 'Night', '2'],\n",
       " ['99', '21.01', ' 3.00', 'M', 'Yes', 'Fri', 'Night', '2'],\n",
       " ['100', '12.46', ' 1.50', 'M', 'No', 'Fri', 'Night', '2'],\n",
       " ['101', '11.35', ' 2.50', 'F', 'Yes', 'Fri', 'Night', '2'],\n",
       " ['102', '15.38', ' 3.00', 'F', 'Yes', 'Fri', 'Night', '2'],\n",
       " ['103', '44.30', ' 2.50', 'F', 'Yes', 'Sat', 'Night', '3'],\n",
       " ['104', '22.42', ' 3.48', 'F', 'Yes', 'Sat', 'Night', '2'],\n",
       " ['105', '20.92', ' 4.08', 'F', 'No', 'Sat', 'Night', '2'],\n",
       " ['106', '15.36', ' 1.64', 'M', 'Yes', 'Sat', 'Night', '2'],\n",
       " ['107', '20.49', ' 4.06', 'M', 'Yes', 'Sat', 'Night', '2'],\n",
       " ['108', '25.21', ' 4.29', 'M', 'Yes', 'Sat', 'Night', '2'],\n",
       " ['109', '18.24', ' 3.76', 'M', 'No', 'Sat', 'Night', '2'],\n",
       " ['110', '14.31', ' 4.00', 'F', 'Yes', 'Sat', 'Night', '2'],\n",
       " ['111', '14.00', ' 3.00', 'M', 'No', 'Sat', 'Night', '2'],\n",
       " ['112', ' 7.25', ' 1.00', 'F', 'No', 'Sat', 'Night', '1'],\n",
       " ['113', '38.07', ' 4.00', 'M', 'No', 'Sun', 'Night', '3'],\n",
       " ['114', '23.95', ' 2.55', 'M', 'No', 'Sun', 'Night', '2'],\n",
       " ['115', '25.71', ' 4.00', 'F', 'No', 'Sun', 'Night', '3'],\n",
       " ['116', '17.31', ' 3.50', 'F', 'No', 'Sun', 'Night', '2'],\n",
       " ['117', '29.93', ' 5.07', 'M', 'No', 'Sun', 'Night', '4'],\n",
       " ['118', '10.65', ' 1.50', 'F', 'No', 'Thu', 'Day', '2'],\n",
       " ['119', '12.43', ' 1.80', 'F', 'No', 'Thu', 'Day', '2'],\n",
       " ['120', '24.08', ' 2.92', 'F', 'No', 'Thu', 'Day', '4'],\n",
       " ['121', '11.69', ' 2.31', 'M', 'No', 'Thu', 'Day', '2'],\n",
       " ['122', '13.42', ' 1.68', 'F', 'No', 'Thu', 'Day', '2'],\n",
       " ['123', '14.26', ' 2.50', 'M', 'No', 'Thu', 'Day', '2'],\n",
       " ['124', '15.95', ' 2.00', 'M', 'No', 'Thu', 'Day', '2'],\n",
       " ['125', '12.48', ' 2.52', 'F', 'No', 'Thu', 'Day', '2'],\n",
       " ['126', '29.80', ' 4.20', 'F', 'No', 'Thu', 'Day', '6'],\n",
       " ['127', ' 8.52', ' 1.48', 'M', 'No', 'Thu', 'Day', '2'],\n",
       " ['128', '14.52', ' 2.00', 'F', 'No', 'Thu', 'Day', '2'],\n",
       " ['129', '11.38', ' 2.00', 'F', 'No', 'Thu', 'Day', '2'],\n",
       " ['130', '22.82', ' 2.18', 'M', 'No', 'Thu', 'Day', '3'],\n",
       " ['131', '19.08', ' 1.50', 'M', 'No', 'Thu', 'Day', '2'],\n",
       " ['132', '20.27', ' 2.83', 'F', 'No', 'Thu', 'Day', '2'],\n",
       " ['133', '11.17', ' 1.50', 'F', 'No', 'Thu', 'Day', '2'],\n",
       " ['134', '12.26', ' 2.00', 'F', 'No', 'Thu', 'Day', '2'],\n",
       " ['135', '18.26', ' 3.25', 'F', 'No', 'Thu', 'Day', '2'],\n",
       " ['136', ' 8.51', ' 1.25', 'F', 'No', 'Thu', 'Day', '2'],\n",
       " ['137', '10.33', ' 2.00', 'F', 'No', 'Thu', 'Day', '2'],\n",
       " ['138', '14.15', ' 2.00', 'F', 'No', 'Thu', 'Day', '2'],\n",
       " ['139', '16.00', ' 2.00', 'M', 'Yes', 'Thu', 'Day', '2'],\n",
       " ['140', '13.16', ' 2.75', 'F', 'No', 'Thu', 'Day', '2'],\n",
       " ['141', '17.47', ' 3.50', 'F', 'No', 'Thu', 'Day', '2'],\n",
       " ['142', '34.30', ' 6.70', 'M', 'No', 'Thu', 'Day', '6'],\n",
       " ['143', '41.19', ' 5.00', 'M', 'No', 'Thu', 'Day', '5'],\n",
       " ['144', '27.05', ' 5.00', 'F', 'No', 'Thu', 'Day', '6'],\n",
       " ['145', '16.43', ' 2.30', 'F', 'No', 'Thu', 'Day', '2'],\n",
       " ['146', ' 8.35', ' 1.50', 'F', 'No', 'Thu', 'Day', '2'],\n",
       " ['147', '18.64', ' 1.36', 'F', 'No', 'Thu', 'Day', '3'],\n",
       " ['148', '11.87', ' 1.63', 'F', 'No', 'Thu', 'Day', '2'],\n",
       " ['149', ' 9.78', ' 1.73', 'M', 'No', 'Thu', 'Day', '2'],\n",
       " ['150', ' 7.51', ' 2.00', 'M', 'No', 'Thu', 'Day', '2'],\n",
       " ['151', '14.07', ' 2.50', 'M', 'No', 'Sun', 'Night', '2'],\n",
       " ['152', '13.13', ' 2.00', 'M', 'No', 'Sun', 'Night', '2'],\n",
       " ['153', '17.26', ' 2.74', 'M', 'No', 'Sun', 'Night', '3'],\n",
       " ['154', '24.55', ' 2.00', 'M', 'No', 'Sun', 'Night', '4'],\n",
       " ['155', '19.77', ' 2.00', 'M', 'No', 'Sun', 'Night', '4'],\n",
       " ['156', '29.85', ' 5.14', 'F', 'No', 'Sun', 'Night', '5'],\n",
       " ['157', '48.17', ' 5.00', 'M', 'No', 'Sun', 'Night', '6'],\n",
       " ['158', '25.00', ' 3.75', 'F', 'No', 'Sun', 'Night', '4'],\n",
       " ['159', '13.39', ' 2.61', 'F', 'No', 'Sun', 'Night', '2'],\n",
       " ['160', '16.49', ' 2.00', 'M', 'No', 'Sun', 'Night', '4'],\n",
       " ['161', '21.50', ' 3.50', 'M', 'No', 'Sun', 'Night', '4'],\n",
       " ['162', '12.66', ' 2.50', 'M', 'No', 'Sun', 'Night', '2'],\n",
       " ['163', '16.21', ' 2.00', 'F', 'No', 'Sun', 'Night', '3'],\n",
       " ['164', '13.81', ' 2.00', 'M', 'No', 'Sun', 'Night', '2'],\n",
       " ['165', '17.51', ' 3.00', 'F', 'Yes', 'Sun', 'Night', '2'],\n",
       " ['166', '24.52', ' 3.48', 'M', 'No', 'Sun', 'Night', '3'],\n",
       " ['167', '20.76', ' 2.24', 'M', 'No', 'Sun', 'Night', '2'],\n",
       " ['168', '31.71', ' 4.50', 'M', 'No', 'Sun', 'Night', '4'],\n",
       " ['169', '10.59', ' 1.61', 'F', 'Yes', 'Sat', 'Night', '2'],\n",
       " ['170', '10.63', ' 2.00', 'F', 'Yes', 'Sat', 'Night', '2'],\n",
       " ['171', '50.81', '10.00', 'M', 'Yes', 'Sat', 'Night', '3'],\n",
       " ['172', '15.81', ' 3.16', 'M', 'Yes', 'Sat', 'Night', '2'],\n",
       " ['173', ' 7.25', ' 5.15', 'M', 'Yes', 'Sun', 'Night', '2'],\n",
       " ['174', '31.85', ' 3.18', 'M', 'Yes', 'Sun', 'Night', '2'],\n",
       " ['175', '16.82', ' 4.00', 'M', 'Yes', 'Sun', 'Night', '2'],\n",
       " ['176', '32.90', ' 3.11', 'M', 'Yes', 'Sun', 'Night', '2'],\n",
       " ['177', '17.89', ' 2.00', 'M', 'Yes', 'Sun', 'Night', '2'],\n",
       " ['178', '14.48', ' 2.00', 'M', 'Yes', 'Sun', 'Night', '2'],\n",
       " ['179', ' 9.60', ' 4.00', 'F', 'Yes', 'Sun', 'Night', '2'],\n",
       " ['180', '34.63', ' 3.55', 'M', 'Yes', 'Sun', 'Night', '2'],\n",
       " ['181', '34.65', ' 3.68', 'M', 'Yes', 'Sun', 'Night', '4'],\n",
       " ['182', '23.33', ' 5.65', 'M', 'Yes', 'Sun', 'Night', '2'],\n",
       " ['183', '45.35', ' 3.50', 'M', 'Yes', 'Sun', 'Night', '3'],\n",
       " ['184', '23.17', ' 6.50', 'M', 'Yes', 'Sun', 'Night', '4'],\n",
       " ['185', '40.55', ' 3.00', 'M', 'Yes', 'Sun', 'Night', '2'],\n",
       " ['186', '20.69', ' 5.00', 'M', 'No', 'Sun', 'Night', '5'],\n",
       " ['187', '20.90', ' 3.50', 'F', 'Yes', 'Sun', 'Night', '3'],\n",
       " ['188', '30.46', ' 2.00', 'M', 'Yes', 'Sun', 'Night', '5'],\n",
       " ['189', '18.15', ' 3.50', 'F', 'Yes', 'Sun', 'Night', '3'],\n",
       " ['190', '23.10', ' 4.00', 'M', 'Yes', 'Sun', 'Night', '3'],\n",
       " ['191', '15.69', ' 1.50', 'M', 'Yes', 'Sun', 'Night', '2'],\n",
       " ['192', '19.81', ' 4.19', 'F', 'Yes', 'Thu', 'Day', '2'],\n",
       " ['193', '28.44', ' 2.56', 'M', 'Yes', 'Thu', 'Day', '2'],\n",
       " ['194', '15.48', ' 2.02', 'M', 'Yes', 'Thu', 'Day', '2'],\n",
       " ['195', '16.58', ' 4.00', 'M', 'Yes', 'Thu', 'Day', '2'],\n",
       " ['196', ' 7.56', ' 1.44', 'M', 'No', 'Thu', 'Day', '2'],\n",
       " ['197', '10.34', ' 2.00', 'M', 'Yes', 'Thu', 'Day', '2'],\n",
       " ['198', '43.11', ' 5.00', 'F', 'Yes', 'Thu', 'Day', '4'],\n",
       " ['199', '13.00', ' 2.00', 'F', 'Yes', 'Thu', 'Day', '2'],\n",
       " ['200', '13.51', ' 2.00', 'M', 'Yes', 'Thu', 'Day', '2'],\n",
       " ['201', '18.71', ' 4.00', 'M', 'Yes', 'Thu', 'Day', '3'],\n",
       " ['202', '12.74', ' 2.01', 'F', 'Yes', 'Thu', 'Day', '2'],\n",
       " ['203', '13.00', ' 2.00', 'F', 'Yes', 'Thu', 'Day', '2'],\n",
       " ['204', '16.40', ' 2.50', 'F', 'Yes', 'Thu', 'Day', '2'],\n",
       " ['205', '20.53', ' 4.00', 'M', 'Yes', 'Thu', 'Day', '4'],\n",
       " ['206', '16.47', ' 3.23', 'F', 'Yes', 'Thu', 'Day', '3'],\n",
       " ['207', '26.59', ' 3.41', 'M', 'Yes', 'Sat', 'Night', '3'],\n",
       " ['208', '38.73', ' 3.00', 'M', 'Yes', 'Sat', 'Night', '4'],\n",
       " ['209', '24.27', ' 2.03', 'M', 'Yes', 'Sat', 'Night', '2'],\n",
       " ['210', '12.76', ' 2.23', 'F', 'Yes', 'Sat', 'Night', '2'],\n",
       " ['211', '30.06', ' 2.00', 'M', 'Yes', 'Sat', 'Night', '3'],\n",
       " ['212', '25.89', ' 5.16', 'M', 'Yes', 'Sat', 'Night', '4'],\n",
       " ['213', '48.33', ' 9.00', 'M', 'No', 'Sat', 'Night', '4'],\n",
       " ['214', '13.27', ' 2.50', 'F', 'Yes', 'Sat', 'Night', '2'],\n",
       " ['215', '28.17', ' 6.50', 'F', 'Yes', 'Sat', 'Night', '3'],\n",
       " ['216', '12.90', ' 1.10', 'F', 'Yes', 'Sat', 'Night', '2'],\n",
       " ['217', '28.15', ' 3.00', 'M', 'Yes', 'Sat', 'Night', '5'],\n",
       " ['218', '11.59', ' 1.50', 'M', 'Yes', 'Sat', 'Night', '2'],\n",
       " ['219', ' 7.74', ' 1.44', 'M', 'Yes', 'Sat', 'Night', '2'],\n",
       " ['220', '30.14', ' 3.09', 'F', 'Yes', 'Sat', 'Night', '4'],\n",
       " ['221', '12.16', ' 2.20', 'M', 'Yes', 'Fri', 'Day', '2'],\n",
       " ['222', '13.42', ' 3.48', 'F', 'Yes', 'Fri', 'Day', '2'],\n",
       " ['223', ' 8.58', ' 1.92', 'M', 'Yes', 'Fri', 'Day', '1'],\n",
       " ['224', '15.98', ' 3.00', 'F', 'No', 'Fri', 'Day', '3'],\n",
       " ['225', '13.42', ' 1.58', 'M', 'Yes', 'Fri', 'Day', '2'],\n",
       " ['226', '16.27', ' 2.50', 'F', 'Yes', 'Fri', 'Day', '2'],\n",
       " ['227', '10.09', ' 2.00', 'F', 'Yes', 'Fri', 'Day', '2'],\n",
       " ['228', '20.45', ' 3.00', 'M', 'No', 'Sat', 'Night', '4'],\n",
       " ['229', '13.28', ' 2.72', 'M', 'No', 'Sat', 'Night', '2'],\n",
       " ['230', '22.12', ' 2.88', 'F', 'Yes', 'Sat', 'Night', '2'],\n",
       " ['231', '24.01', ' 2.00', 'M', 'Yes', 'Sat', 'Night', '4'],\n",
       " ['232', '15.69', ' 3.00', 'M', 'Yes', 'Sat', 'Night', '3'],\n",
       " ['233', '11.61', ' 3.39', 'M', 'No', 'Sat', 'Night', '2'],\n",
       " ['234', '10.77', ' 1.47', 'M', 'No', 'Sat', 'Night', '2'],\n",
       " ['235', '15.53', ' 3.00', 'M', 'Yes', 'Sat', 'Night', '2'],\n",
       " ['236', '10.07', ' 1.25', 'M', 'No', 'Sat', 'Night', '2'],\n",
       " ['237', '12.60', ' 1.00', 'M', 'Yes', 'Sat', 'Night', '2'],\n",
       " ['238', '32.83', ' 1.17', 'M', 'Yes', 'Sat', 'Night', '2'],\n",
       " ['239', '35.83', ' 4.67', 'F', 'No', 'Sat', 'Night', '3'],\n",
       " ['240', '29.03', ' 5.92', 'M', 'No', 'Sat', 'Night', '3'],\n",
       " ['241', '27.18', ' 2.00', 'F', 'Yes', 'Sat', 'Night', '2'],\n",
       " ['242', '22.67', ' 2.00', 'M', 'Yes', 'Sat', 'Night', '2'],\n",
       " ['243', '17.82', ' 1.75', 'M', 'No', 'Sat', 'Night', '2'],\n",
       " ['244', '18.78', ' 3.00', 'F', 'No', 'Thu', 'Night', '2']]"
      ]
     },
     "execution_count": 4,
     "metadata": {},
     "output_type": "execute_result"
    }
   ],
   "source": [
    "data"
   ]
  },
  {
   "cell_type": "code",
   "execution_count": 5,
   "metadata": {
    "collapsed": true
   },
   "outputs": [],
   "source": [
    "tips = [float(row[2]) for row in data]"
   ]
  },
  {
   "cell_type": "code",
   "execution_count": 11,
   "metadata": {
    "collapsed": false
   },
   "outputs": [
    {
     "data": {
      "text/plain": [
       "[1.01, 1.66, 3.5, 3.31, 3.61, 4.71, 2.0, 3.12, 1.96, 3.23]"
      ]
     },
     "execution_count": 11,
     "metadata": {},
     "output_type": "execute_result"
    }
   ],
   "source": [
    "tips[:10]"
   ]
  },
  {
   "cell_type": "code",
   "execution_count": 7,
   "metadata": {
    "collapsed": false
   },
   "outputs": [
    {
     "name": "stderr",
     "output_type": "stream",
     "text": [
      "/Applications/anaconda/lib/python3.5/site-packages/matplotlib/font_manager.py:273: UserWarning: Matplotlib is building the font cache using fc-list. This may take a moment.\n",
      "  warnings.warn('Matplotlib is building the font cache using fc-list. This may take a moment.')\n",
      "/Applications/anaconda/lib/python3.5/site-packages/matplotlib/font_manager.py:273: UserWarning: Matplotlib is building the font cache using fc-list. This may take a moment.\n",
      "  warnings.warn('Matplotlib is building the font cache using fc-list. This may take a moment.')\n"
     ]
    }
   ],
   "source": [
    "import matplotlib.pyplot as plt\n",
    "%matplotlib inline"
   ]
  },
  {
   "cell_type": "code",
   "execution_count": 13,
   "metadata": {
    "collapsed": false
   },
   "outputs": [
    {
     "data": {
      "text/plain": [
       "<matplotlib.text.Text at 0x10c61b8d0>"
      ]
     },
     "execution_count": 13,
     "metadata": {},
     "output_type": "execute_result"
    },
    {
     "data": {
      "image/png": "[encoded data removed]",
      "text/plain": [
       "<matplotlib.figure.Figure at 0x10c091400>"
      ]
     },
     "metadata": {},
     "output_type": "display_data"
    }
   ],
   "source": [
    "plt.hist(tips, 50)\n",
    "plt.xlabel(\"Tip Amount ($)\")\n",
    "plt.ylabel(\"Number of Tips\")"
   ]
  },
  {
   "cell_type": "code",
   "execution_count": 17,
   "metadata": {
    "collapsed": false
   },
   "outputs": [],
   "source": [
    "days = list(set([row[5] for row in data]))"
   ]
  },
  {
   "cell_type": "code",
   "execution_count": 23,
   "metadata": {
    "collapsed": false
   },
   "outputs": [
    {
     "data": {
      "image/png": "[encoded data removed]",
      "text/plain": [
       "<matplotlib.figure.Figure at 0x1137765f8>"
      ]
     },
     "metadata": {},
     "output_type": "display_data"
    },
    {
     "data": {
      "image/png": "[encoded data removed]",
      "text/plain": [
       "<matplotlib.figure.Figure at 0x11334fb00>"
      ]
     },
     "metadata": {},
     "output_type": "display_data"
    },
    {
     "data": {
      "image/png": "[encoded data removed]",
      "text/plain": [
       "<matplotlib.figure.Figure at 0x1131a7a20>"
      ]
     },
     "metadata": {},
     "output_type": "display_data"
    },
    {
     "data": {
      "image/png": "[encoded data removed]",
      "text/plain": [
       "<matplotlib.figure.Figure at 0x10c627f60>"
      ]
     },
     "metadata": {},
     "output_type": "display_data"
    }
   ],
   "source": [
    "for i in range(len(days)):\n",
    "    plt.figure(i+1)\n",
    "    tipsd = [float(row[2]) for row in data if row[5] == days[i]]\n",
    "    plt.hist(tipsd)\n",
    "    plt.xlabel(days[i])\n",
    "    plt.xlim([0, 12])\n",
    "plt.tight_layout()"
   ]
  },
  {
   "cell_type": "code",
   "execution_count": 24,
   "metadata": {
    "collapsed": true
   },
   "outputs": [],
   "source": [
    "amounts = [float(row[1]) for row in data]"
   ]
  },
  {
   "cell_type": "code",
   "execution_count": 28,
   "metadata": {
    "collapsed": false
   },
   "outputs": [
    {
     "data": {
      "text/plain": [
       "<matplotlib.text.Text at 0x11301c5f8>"
      ]
     },
     "execution_count": 28,
     "metadata": {},
     "output_type": "execute_result"
    },
    {
     "data": {
      "image/png": "[encoded data removed]",
      "text/plain": [
       "<matplotlib.figure.Figure at 0x113395240>"
      ]
     },
     "metadata": {},
     "output_type": "display_data"
    }
   ],
   "source": [
    "plt.scatter(amounts, tips)\n",
    "plt.xlabel(\"Total Amount ($)\")\n",
    "plt.ylabel(\"Tip Amount ($)\")"
   ]
  },
  {
   "cell_type": "code",
   "execution_count": 29,
   "metadata": {
    "collapsed": true
   },
   "outputs": [],
   "source": [
    "tiprate = [t/b for t, b in zip(tips, amounts)]"
   ]
  },
  {
   "cell_type": "code",
   "execution_count": 35,
   "metadata": {
    "collapsed": false
   },
   "outputs": [
    {
     "data": {
      "text/plain": [
       "<matplotlib.text.Text at 0x113709fd0>"
      ]
     },
     "execution_count": 35,
     "metadata": {},
     "output_type": "execute_result"
    },
    {
     "data": {
      "image/png": "[encoded data removed]",
      "text/plain": [
       "<matplotlib.figure.Figure at 0x1136f41d0>"
      ]
     },
     "metadata": {},
     "output_type": "display_data"
    }
   ],
   "source": [
    "plt.scatter(amounts, tiprate)\n",
    "plt.ylabel(\"tip rate\")\n",
    "plt.xlabel(\"total amount\")"
   ]
  },
  {
   "cell_type": "code",
   "execution_count": 36,
   "metadata": {
    "collapsed": true
   },
   "outputs": [],
   "source": [
    "import scipy.stats as st\n",
    "slope, intercept, r_value, p_value, std_error = st.linregress(amounts, tiprate)"
   ]
  },
  {
   "cell_type": "code",
   "execution_count": 39,
   "metadata": {
    "collapsed": false
   },
   "outputs": [],
   "source": [
    "import numpy as np\n",
    "interps = np.linspace(0, 60, 200)"
   ]
  },
  {
   "cell_type": "code",
   "execution_count": 44,
   "metadata": {
    "collapsed": false
   },
   "outputs": [
    {
     "data": {
      "text/plain": [
       "[<matplotlib.lines.Line2D at 0x115299eb8>]"
      ]
     },
     "execution_count": 44,
     "metadata": {},
     "output_type": "execute_result"
    },
    {
     "data": {
      "image/png": "[encoded data removed]",
      "text/plain": [
       "<matplotlib.figure.Figure at 0x113788cf8>"
      ]
     },
     "metadata": {},
     "output_type": "display_data"
    }
   ],
   "source": [
    "plt.scatter(amounts, tiprate, color = \"r\")\n",
    "plt.plot(interps, intercept + slope * interps)"
   ]
  },
  {
   "cell_type": "code",
   "execution_count": null,
   "metadata": {
    "collapsed": true
   },
   "outputs": [],
   "source": []
  }
 ],
 "metadata": {
  "kernelspec": {
   "display_name": "Python [Root]",
   "language": "python",
   "name": "Python [Root]"
  },
  "language_info": {
   "codemirror_mode": {
    "name": "ipython",
    "version": 3
   },
   "file_extension": ".py",
   "mimetype": "text/x-python",
   "name": "python",
   "nbconvert_exporter": "python",
   "pygments_lexer": "ipython3",
   "version": "3.5.2"
  }
 },
 "nbformat": 4,
 "nbformat_minor": 0
}
