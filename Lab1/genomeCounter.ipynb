{
 "cells": [
  {
   "cell_type": "code",
   "execution_count": 3,
   "metadata": {
    "collapsed": false
   },
   "outputs": [],
   "source": [
    "file = open(\"ecoli_uti89.txt\")"
   ]
  },
  {
   "cell_type": "code",
   "execution_count": 6,
   "metadata": {
    "collapsed": false
   },
   "outputs": [],
   "source": [
    "genomeString = \"\"\n",
    "for line in file:\n",
    "    genomeString += line.strip()"
   ]
  },
  {
   "cell_type": "code",
   "execution_count": 33,
   "metadata": {
    "collapsed": false
   },
   "outputs": [],
   "source": [
    "def count(genomes):\n",
    "    gcCount = 0\n",
    "    count = 0\n",
    "    while count != len(genomes):\n",
    "        if genomes[count] == \"G\" or genomes[count] ==\"C\":\n",
    "            gcCount+=1\n",
    "        count += 1\n",
    "    return gcCount"
   ]
  },
  {
   "cell_type": "code",
   "execution_count": 34,
   "metadata": {
    "collapsed": false
   },
   "outputs": [
    {
     "name": "stdout",
     "output_type": "stream",
     "text": [
      "2563477\n"
     ]
    }
   ],
   "source": [
    "print(count(genomeString))"
   ]
  },
  {
   "cell_type": "code",
   "execution_count": 29,
   "metadata": {
    "collapsed": false
   },
   "outputs": [
    {
     "name": "stdout",
     "output_type": "stream",
     "text": [
      "2563477\n"
     ]
    }
   ],
   "source": [
    "def counter(genomes):\n",
    "    \n",
    "    aCount = genomes.count('A')\n",
    "    tCount = genomes.count('T')\n",
    "    \n",
    "    return (len(genomes) - (aCount + tCount))\n",
    "print(counter(genomeString))"
   ]
  },
  {
   "cell_type": "code",
   "execution_count": null,
   "metadata": {
    "collapsed": true
   },
   "outputs": [],
   "source": [
    "import numpy as np\n",
    "import matplotlib.pyplot as plt\n",
    "%matplotlib inline\n",
    "\n",
    "fig, ax = plt.subplots()\n",
    "\n",
    "ind = np.arange(len(funcs))\n",
    "width = 0.75\n",
    "\n",
    "rects = ax.bar(ind, timings, width, color=\"r\")\n",
    "\n",
    "ax.set_xticks(ind + width / 2)\n",
    "ax.set_xtickslabels(names, rotation=\"vertical\")"
   ]
  }
 ],
 "metadata": {
  "anaconda-cloud": {},
  "kernelspec": {
   "display_name": "Python [Root]",
   "language": "python",
   "name": "Python [Root]"
  },
  "language_info": {
   "codemirror_mode": {
    "name": "ipython",
    "version": 3
   },
   "file_extension": ".py",
   "mimetype": "text/x-python",
   "name": "python",
   "nbconvert_exporter": "python",
   "pygments_lexer": "ipython3",
   "version": "3.5.2"
  }
 },
 "nbformat": 4,
 "nbformat_minor": 0
}
