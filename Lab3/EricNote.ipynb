{
 "cells": [
  {
   "cell_type": "code",
   "execution_count": 10,
   "metadata": {
    "collapsed": true
   },
   "outputs": [],
   "source": [
    "import math\n",
    "def albers(long, lat):\n",
    "    # lamb = longitude\n",
    "    # lambz = reference long\n",
    "    # phi = latitude\n",
    "    #  phiZ = reference Lat\n",
    "    # phi_1 phi_2 = standard parallels\n",
    "    lamb = long\n",
    "    phi = lat\n",
    "    phi_0 = 40\n",
    "    phi_1 = 20\n",
    "    phi_2 = 50\n",
    "    lamb_0 = 95\n",
    "    n = 0.5 * (math.sin(phi_1)+math.sin(phi_2))\n",
    "    C = math.cos(phi_1)**2 + 2*n*math.sin(phi_1)\n",
    "    theta = n*(lamb - lamb_0)\n",
    "    p = math.sqrt(C- 2*n*math.sin(phi))/n\n",
    "    p_0 = math.sqrt(C-2*n*math.sin(phi_0))/n\n",
    "    new_long = p*math.sin(theta)\n",
    "    new_lat =  p_0 - p*math.cos(theta)\n",
    "    return new_long , new_lat"
   ]
  }
 ],
 "metadata": {
  "anaconda-cloud": {},
  "kernelspec": {
   "display_name": "Python [Root]",
   "language": "python",
   "name": "Python [Root]"
  },
  "language_info": {
   "codemirror_mode": {
    "name": "ipython",
    "version": 3
   },
   "file_extension": ".py",
   "mimetype": "text/x-python",
   "name": "python",
   "nbconvert_exporter": "python",
   "pygments_lexer": "ipython3",
   "version": "3.5.2"
  }
 },
 "nbformat": 4,
 "nbformat_minor": 0
}
