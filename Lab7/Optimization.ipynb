{
 "cells": [
  {
   "cell_type": "code",
   "execution_count": 7,
   "metadata": {
    "collapsed": false
   },
   "outputs": [
    {
     "name": "stdout",
     "output_type": "stream",
     "text": [
      "4\n",
      "3.25\n",
      "3.1634615384615383\n",
      "3.1622778816927752\n",
      "3.162277660168387\n"
     ]
    }
   ],
   "source": [
    "import math\n",
    "a = 10\n",
    "x = 4\n",
    "\n",
    "finished = False\n",
    "while not finished:\n",
    "    print(x)\n",
    "    y = (x+a / x) /2\n",
    "    if abs(y-x) < 0.0000000001:\n",
    "        finished = True\n",
    "    x = y"
   ]
  },
  {
   "cell_type": "code",
   "execution_count": 8,
   "metadata": {
    "collapsed": true
   },
   "outputs": [],
   "source": [
    "def square_root(a):\n",
    "    finished = False\n",
    "    x = a\n",
    "    while not finished:\n",
    "        print(x)\n",
    "        y = (x+a / x) /2\n",
    "        if abs(y-x) < 0.0000000001:\n",
    "            finished = True\n",
    "        x = y\n",
    "    return x"
   ]
  },
  {
   "cell_type": "code",
   "execution_count": 9,
   "metadata": {
    "collapsed": false
   },
   "outputs": [
    {
     "name": "stdout",
     "output_type": "stream",
     "text": [
      "10\n",
      "5.5\n",
      "3.659090909090909\n",
      "3.196005081874647\n",
      "3.16245562280389\n",
      "3.162277665175675\n",
      "3.162277660168379\n"
     ]
    },
    {
     "data": {
      "text/plain": [
       "3.162277660168379"
      ]
     },
     "execution_count": 9,
     "metadata": {},
     "output_type": "execute_result"
    }
   ],
   "source": [
    "square_root(10)"
   ]
  },
  {
   "cell_type": "code",
   "execution_count": 10,
   "metadata": {
    "collapsed": true
   },
   "outputs": [],
   "source": [
    "def newton(f, df, x0, e):\n",
    "    while abs(0 - f(x0)) > e:\n",
    "        x0 = x0 - f(x0) / df(x0)\n",
    "    return x0"
   ]
  },
  {
   "cell_type": "code",
   "execution_count": 11,
   "metadata": {
    "collapsed": true
   },
   "outputs": [],
   "source": [
    "def f(x):\n",
    "    return x ** 2 - 10\n",
    "\n",
    "def df(x):\n",
    "    return 2 * x"
   ]
  },
  {
   "cell_type": "code",
   "execution_count": 12,
   "metadata": {
    "collapsed": false
   },
   "outputs": [
    {
     "data": {
      "text/plain": [
       "3.1622776601683795"
      ]
     },
     "execution_count": 12,
     "metadata": {},
     "output_type": "execute_result"
    }
   ],
   "source": [
    "newton(f, df, 4, 0.00000000000001)"
   ]
  },
  {
   "cell_type": "code",
   "execution_count": 16,
   "metadata": {
    "collapsed": false
   },
   "outputs": [
    {
     "data": {
      "text/plain": [
       "3.162277660168427"
      ]
     },
     "execution_count": 16,
     "metadata": {},
     "output_type": "execute_result"
    }
   ],
   "source": [
    "import scipy.optimize\n",
    "scipy.optimize.newton(f, -0)"
   ]
  },
  {
   "cell_type": "markdown",
   "metadata": {},
   "source": [
    "Pig weighs 200 lb\n",
    "\n",
    "gains 5 lb per day\n",
    "\n",
    "costs $.45$ per day\n",
    "\n",
    "market price $.65$ per pound\n",
    "\n",
    "drops .01 per day\n",
    "\n",
    "when should i sell the pig?"
   ]
  },
  {
   "cell_type": "code",
   "execution_count": 27,
   "metadata": {
    "collapsed": true
   },
   "outputs": [],
   "source": [
    "pig = 200\n",
    "gain = 5\n",
    "cost = .45\n",
    "market = .65\n",
    "marD = .01\n",
    "\n",
    "day = 0\n",
    "\n",
    "sellprice = (pig + (gain * day)) * (market - marD * day) - (cost * day) "
   ]
  },
  {
   "cell_type": "code",
   "execution_count": 28,
   "metadata": {
    "collapsed": false
   },
   "outputs": [
    {
     "data": {
      "text/plain": [
       "130.0"
      ]
     },
     "execution_count": 28,
     "metadata": {},
     "output_type": "execute_result"
    }
   ],
   "source": [
    "sellprice"
   ]
  },
  {
   "cell_type": "code",
   "execution_count": 46,
   "metadata": {
    "collapsed": false
   },
   "outputs": [
    {
     "data": {
      "text/plain": [
       "-43.59556496639708"
      ]
     },
     "execution_count": 46,
     "metadata": {},
     "output_type": "execute_result"
    }
   ],
   "source": [
    "def sell(day):\n",
    "    return (200 + (5 * day)) * (.65 - .01 * day) - (.45 * day)\n",
    "\n",
    "def dsell(day):\n",
    "    return day * day - day\n",
    "\n",
    "newton(sell, dsell, 22, 0.1)\n",
    "\n",
    "        "
   ]
  },
  {
   "cell_type": "code",
   "execution_count": 47,
   "metadata": {
    "collapsed": false
   },
   "outputs": [
    {
     "name": "stdout",
     "output_type": "stream",
     "text": [
      "8\n"
     ]
    }
   ],
   "source": [
    "day = 0\n",
    "while sell(day) < sell(day+1):\n",
    "    day +=1 \n",
    "    \n",
    "print(day)"
   ]
  },
  {
   "cell_type": "code",
   "execution_count": null,
   "metadata": {
    "collapsed": true
   },
   "outputs": [],
   "source": []
  }
 ],
 "metadata": {
  "anaconda-cloud": {},
  "kernelspec": {
   "display_name": "Python [Root]",
   "language": "python",
   "name": "Python [Root]"
  },
  "language_info": {
   "codemirror_mode": {
    "name": "ipython",
    "version": 3
   },
   "file_extension": ".py",
   "mimetype": "text/x-python",
   "name": "python",
   "nbconvert_exporter": "python",
   "pygments_lexer": "ipython3",
   "version": "3.5.2"
  }
 },
 "nbformat": 4,
 "nbformat_minor": 0
}
