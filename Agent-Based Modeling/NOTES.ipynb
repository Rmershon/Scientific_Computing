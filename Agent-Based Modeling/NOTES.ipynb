{
 "cells": [
  {
   "cell_type": "markdown",
   "metadata": {},
   "source": [
    "When should I use agent based?\n",
    "\n",
    "- ABM are discrete\n",
    "- Good for randomness\n",
    "- If the landscape or layout matters to the model\n",
    "- If you know what the agents do, but not the underlying equation\n",
    "\n",
    "When should I not use it?\n",
    "\n",
    "- Because of the randomness you can't come to conclusions as easy\n",
    "- If you know the equation behind the model \n",
    "\n",
    "\n",
    "Need help with the GA problem "
   ]
  },
  {
   "cell_type": "code",
   "execution_count": null,
   "metadata": {
    "collapsed": true
   },
   "outputs": [],
   "source": []
  }
 ],
 "metadata": {
  "anaconda-cloud": {},
  "kernelspec": {
   "display_name": "Python [Root]",
   "language": "python",
   "name": "Python [Root]"
  },
  "language_info": {
   "codemirror_mode": {
    "name": "ipython",
    "version": 3
   },
   "file_extension": ".py",
   "mimetype": "text/x-python",
   "name": "python",
   "nbconvert_exporter": "python",
   "pygments_lexer": "ipython3",
   "version": "3.5.2"
  }
 },
 "nbformat": 4,
 "nbformat_minor": 0
}
