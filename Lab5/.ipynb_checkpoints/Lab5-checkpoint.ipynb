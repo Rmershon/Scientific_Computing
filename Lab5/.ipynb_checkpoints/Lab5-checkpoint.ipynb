{
 "cells": [
  {
   "cell_type": "code",
   "execution_count": 1,
   "metadata": {
    "collapsed": true
   },
   "outputs": [],
   "source": [
    "from scipy.integrate import odeint\n",
    "%matplotlib inline\n",
    "import matplotlib.pyplot as plt\n",
    "import numpy as np\n",
    "import math"
   ]
  },
  {
   "cell_type": "code",
   "execution_count": 2,
   "metadata": {
    "collapsed": true
   },
   "outputs": [],
   "source": [
    "def rk4(func, initial, deltas):\n",
    "    ys = [initial]\n",
    "    for i in range(1, len(xs)):\n",
    "        old = np.array(ys[-1][:])\n",
    "        dt = xs[i] - xs[i - 1]\n",
    "        d1 = np.array(func(old, xs[i])) * dt\n",
    "        d2 = np.array(func(old + 0.5 * d1, xs[i] + 0.5 * dt)) * dt\n",
    "        d3 = np.array(func(old + 0.5 * d2, xs[i] + 0.5 * dt)) * dt\n",
    "        d4 = np.array(func(old + d3, xs[i] + dt)) * dt\n",
    "        better = old + ((d1 + 2 * d2 + 2 * d3 + d4) / 6.0)\n",
    "        ys.append(better)\n",
    "    return np.array(ys)"
   ]
  },
  {
   "cell_type": "code",
   "execution_count": 8,
   "metadata": {
    "collapsed": false
   },
   "outputs": [
    {
     "name": "stdout",
     "output_type": "stream",
     "text": [
      "[  3.82144302e+97]\n"
     ]
    },
    {
     "data": {
      "text/plain": [
       "[<matplotlib.lines.Line2D at 0x10fdc36d8>]"
      ]
     },
     "execution_count": 8,
     "metadata": {},
     "output_type": "execute_result"
    },
    {
     "data": {
      "image/png": "[encoded data removed]",
      "text/plain": [
       "<matplotlib.figure.Figure at 0x10d31acc0>"
      ]
     },
     "metadata": {},
     "output_type": "display_data"
    }
   ],
   "source": [
    "timetotal = 240 # in hours\n",
    "\n",
    "C = 100 # in mg\n",
    "Cu = 1.6 #average cups per day\n",
    "Caf = 0\n",
    "def intake(cups):\n",
    "    return C * cups\n",
    "\n",
    "def time(t, cups):\n",
    "    if 0 < t % 24 < 1:\n",
    "        return intake(cups)\n",
    "    return 0\n",
    "\n",
    "\n",
    "def coffee(u,t):\n",
    "    c = u\n",
    "    dc = c + time(t, C)\n",
    "    return [dc]\n",
    "\n",
    "init = [Caf]\n",
    "xs = np.linspace(0, timetotal, 200)\n",
    "\n",
    "ys = rk4(coffee, init, xs)\n",
    "\n",
    "print(ys[-1])\n",
    "\n",
    "plt.plot(xs, ys)"
   ]
  },
  {
   "cell_type": "code",
   "execution_count": null,
   "metadata": {
    "collapsed": true
   },
   "outputs": [],
   "source": []
  }
 ],
 "metadata": {
  "anaconda-cloud": {},
  "kernelspec": {
   "display_name": "Python [Root]",
   "language": "python",
   "name": "Python [Root]"
  },
  "language_info": {
   "codemirror_mode": {
    "name": "ipython",
    "version": 3
   },
   "file_extension": ".py",
   "mimetype": "text/x-python",
   "name": "python",
   "nbconvert_exporter": "python",
   "pygments_lexer": "ipython3",
   "version": "3.5.2"
  }
 },
 "nbformat": 4,
 "nbformat_minor": 0
}
